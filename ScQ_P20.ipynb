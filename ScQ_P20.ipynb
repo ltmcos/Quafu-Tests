{
 "cells": [
  {
   "cell_type": "code",
   "execution_count": 1,
   "id": "f09b974a",
   "metadata": {},
   "outputs": [],
   "source": [
    "import numpy as np\n",
    "from quafu.quantum_circuit import QuantumCircuit"
   ]
  },
  {
   "cell_type": "code",
   "execution_count": 2,
   "id": "f7c4f009",
   "metadata": {},
   "outputs": [],
   "source": [
    "qubits18 = []\n",
    "for idx in range(3,21):\n",
    "    qubits18.append('q'+str(idx))\n",
    "    exec(\"q{}='q'+str(idx)\".format(idx))"
   ]
  },
  {
   "cell_type": "markdown",
   "id": "b23c6478",
   "metadata": {},
   "source": [
    "### 单比特门测试"
   ]
  },
  {
   "cell_type": "code",
   "execution_count": null,
   "id": "50c9385c",
   "metadata": {},
   "outputs": [],
   "source": [
    "q = QuantumCircuit(18)\n",
    "q.set_backend(\"ScQ-P20\")"
   ]
  },
  {
   "cell_type": "code",
   "execution_count": null,
   "id": "d522b0fa",
   "metadata": {},
   "outputs": [],
   "source": [
    "qubits = [q3, q4, q5, q6]\n",
    "measures = [qubits18.index(qubit) for qubit in qubits]"
   ]
  },
  {
   "cell_type": "code",
   "execution_count": null,
   "id": "7c918887",
   "metadata": {},
   "outputs": [],
   "source": [
    "for q_idx in measures:\n",
    "    q.x(q_idx)\n",
    "q.measure(measures, shots=1000)"
   ]
  },
  {
   "cell_type": "code",
   "execution_count": null,
   "id": "476861ca",
   "metadata": {},
   "outputs": [],
   "source": [
    "res = q.send(compile=False)\n",
    "res.plot_amplitudes()"
   ]
  },
  {
   "cell_type": "markdown",
   "id": "1dcbd7e6",
   "metadata": {},
   "source": [
    "### CZ门测试"
   ]
  },
  {
   "cell_type": "code",
   "execution_count": 3,
   "id": "b1787565",
   "metadata": {},
   "outputs": [],
   "source": [
    "q = QuantumCircuit(18)\n",
    "q.set_backend(\"ScQ-P20\")"
   ]
  },
  {
   "cell_type": "code",
   "execution_count": 4,
   "id": "f14d6979",
   "metadata": {},
   "outputs": [],
   "source": [
    "qubits = [q3, q4]\n",
    "measures = [qubits18.index(qubit) for qubit in qubits]"
   ]
  },
  {
   "cell_type": "code",
   "execution_count": 5,
   "id": "d8660937",
   "metadata": {},
   "outputs": [],
   "source": [
    "q.h(measures[0])\n",
    "q.cnot(measures[0], measures[1])\n",
    "q.measure(measures, shots=1000)"
   ]
  },
  {
   "cell_type": "code",
   "execution_count": 6,
   "id": "ef263496",
   "metadata": {},
   "outputs": [
    {
     "name": "stdout",
     "output_type": "stream",
     "text": [
      "q[0]  -H---*-- M->c[0]\n",
      "           |  \n",
      "q[1]  -----+-- M->c[1]\n"
     ]
    }
   ],
   "source": [
    "q.draw_circuit()"
   ]
  },
  {
   "cell_type": "code",
   "execution_count": 10,
   "id": "48969a2e",
   "metadata": {},
   "outputs": [
    {
     "ename": "JSONDecodeError",
     "evalue": "Expecting value: line 1 column 1 (char 0)",
     "output_type": "error",
     "traceback": [
      "\u001b[1;31m---------------------------------------------------------------------------\u001b[0m",
      "\u001b[1;31mJSONDecodeError\u001b[0m                           Traceback (most recent call last)",
      "File \u001b[1;32mD:\\ProgramData\\Anaconda3\\envs\\qutip_env\\lib\\site-packages\\requests\\models.py:971\u001b[0m, in \u001b[0;36mResponse.json\u001b[1;34m(self, **kwargs)\u001b[0m\n\u001b[0;32m    970\u001b[0m \u001b[38;5;28;01mtry\u001b[39;00m:\n\u001b[1;32m--> 971\u001b[0m     \u001b[38;5;28;01mreturn\u001b[39;00m \u001b[43mcomplexjson\u001b[49m\u001b[38;5;241;43m.\u001b[39;49m\u001b[43mloads\u001b[49m\u001b[43m(\u001b[49m\u001b[38;5;28;43mself\u001b[39;49m\u001b[38;5;241;43m.\u001b[39;49m\u001b[43mtext\u001b[49m\u001b[43m,\u001b[49m\u001b[43m \u001b[49m\u001b[38;5;241;43m*\u001b[39;49m\u001b[38;5;241;43m*\u001b[39;49m\u001b[43mkwargs\u001b[49m\u001b[43m)\u001b[49m\n\u001b[0;32m    972\u001b[0m \u001b[38;5;28;01mexcept\u001b[39;00m JSONDecodeError \u001b[38;5;28;01mas\u001b[39;00m e:\n\u001b[0;32m    973\u001b[0m     \u001b[38;5;66;03m# Catch JSON-related errors and raise as requests.JSONDecodeError\u001b[39;00m\n\u001b[0;32m    974\u001b[0m     \u001b[38;5;66;03m# This aliases json.JSONDecodeError and simplejson.JSONDecodeError\u001b[39;00m\n",
      "File \u001b[1;32mD:\\ProgramData\\Anaconda3\\envs\\qutip_env\\lib\\json\\__init__.py:357\u001b[0m, in \u001b[0;36mloads\u001b[1;34m(s, cls, object_hook, parse_float, parse_int, parse_constant, object_pairs_hook, **kw)\u001b[0m\n\u001b[0;32m    354\u001b[0m \u001b[38;5;28;01mif\u001b[39;00m (\u001b[38;5;28mcls\u001b[39m \u001b[38;5;129;01mis\u001b[39;00m \u001b[38;5;28;01mNone\u001b[39;00m \u001b[38;5;129;01mand\u001b[39;00m object_hook \u001b[38;5;129;01mis\u001b[39;00m \u001b[38;5;28;01mNone\u001b[39;00m \u001b[38;5;129;01mand\u001b[39;00m\n\u001b[0;32m    355\u001b[0m         parse_int \u001b[38;5;129;01mis\u001b[39;00m \u001b[38;5;28;01mNone\u001b[39;00m \u001b[38;5;129;01mand\u001b[39;00m parse_float \u001b[38;5;129;01mis\u001b[39;00m \u001b[38;5;28;01mNone\u001b[39;00m \u001b[38;5;129;01mand\u001b[39;00m\n\u001b[0;32m    356\u001b[0m         parse_constant \u001b[38;5;129;01mis\u001b[39;00m \u001b[38;5;28;01mNone\u001b[39;00m \u001b[38;5;129;01mand\u001b[39;00m object_pairs_hook \u001b[38;5;129;01mis\u001b[39;00m \u001b[38;5;28;01mNone\u001b[39;00m \u001b[38;5;129;01mand\u001b[39;00m \u001b[38;5;129;01mnot\u001b[39;00m kw):\n\u001b[1;32m--> 357\u001b[0m     \u001b[38;5;28;01mreturn\u001b[39;00m \u001b[43m_default_decoder\u001b[49m\u001b[38;5;241;43m.\u001b[39;49m\u001b[43mdecode\u001b[49m\u001b[43m(\u001b[49m\u001b[43ms\u001b[49m\u001b[43m)\u001b[49m\n\u001b[0;32m    358\u001b[0m \u001b[38;5;28;01mif\u001b[39;00m \u001b[38;5;28mcls\u001b[39m \u001b[38;5;129;01mis\u001b[39;00m \u001b[38;5;28;01mNone\u001b[39;00m:\n",
      "File \u001b[1;32mD:\\ProgramData\\Anaconda3\\envs\\qutip_env\\lib\\json\\decoder.py:337\u001b[0m, in \u001b[0;36mJSONDecoder.decode\u001b[1;34m(self, s, _w)\u001b[0m\n\u001b[0;32m    333\u001b[0m \u001b[38;5;124;03m\"\"\"Return the Python representation of ``s`` (a ``str`` instance\u001b[39;00m\n\u001b[0;32m    334\u001b[0m \u001b[38;5;124;03mcontaining a JSON document).\u001b[39;00m\n\u001b[0;32m    335\u001b[0m \n\u001b[0;32m    336\u001b[0m \u001b[38;5;124;03m\"\"\"\u001b[39;00m\n\u001b[1;32m--> 337\u001b[0m obj, end \u001b[38;5;241m=\u001b[39m \u001b[38;5;28;43mself\u001b[39;49m\u001b[38;5;241;43m.\u001b[39;49m\u001b[43mraw_decode\u001b[49m\u001b[43m(\u001b[49m\u001b[43ms\u001b[49m\u001b[43m,\u001b[49m\u001b[43m \u001b[49m\u001b[43midx\u001b[49m\u001b[38;5;241;43m=\u001b[39;49m\u001b[43m_w\u001b[49m\u001b[43m(\u001b[49m\u001b[43ms\u001b[49m\u001b[43m,\u001b[49m\u001b[43m \u001b[49m\u001b[38;5;241;43m0\u001b[39;49m\u001b[43m)\u001b[49m\u001b[38;5;241;43m.\u001b[39;49m\u001b[43mend\u001b[49m\u001b[43m(\u001b[49m\u001b[43m)\u001b[49m\u001b[43m)\u001b[49m\n\u001b[0;32m    338\u001b[0m end \u001b[38;5;241m=\u001b[39m _w(s, end)\u001b[38;5;241m.\u001b[39mend()\n",
      "File \u001b[1;32mD:\\ProgramData\\Anaconda3\\envs\\qutip_env\\lib\\json\\decoder.py:355\u001b[0m, in \u001b[0;36mJSONDecoder.raw_decode\u001b[1;34m(self, s, idx)\u001b[0m\n\u001b[0;32m    354\u001b[0m \u001b[38;5;28;01mexcept\u001b[39;00m \u001b[38;5;167;01mStopIteration\u001b[39;00m \u001b[38;5;28;01mas\u001b[39;00m err:\n\u001b[1;32m--> 355\u001b[0m     \u001b[38;5;28;01mraise\u001b[39;00m JSONDecodeError(\u001b[38;5;124m\"\u001b[39m\u001b[38;5;124mExpecting value\u001b[39m\u001b[38;5;124m\"\u001b[39m, s, err\u001b[38;5;241m.\u001b[39mvalue) \u001b[38;5;28;01mfrom\u001b[39;00m \u001b[38;5;28mNone\u001b[39m\n\u001b[0;32m    356\u001b[0m \u001b[38;5;28;01mreturn\u001b[39;00m obj, end\n",
      "\u001b[1;31mJSONDecodeError\u001b[0m: Expecting value: line 1 column 1 (char 0)",
      "\nDuring handling of the above exception, another exception occurred:\n",
      "\u001b[1;31mJSONDecodeError\u001b[0m                           Traceback (most recent call last)",
      "Input \u001b[1;32mIn [10]\u001b[0m, in \u001b[0;36m<cell line: 1>\u001b[1;34m()\u001b[0m\n\u001b[1;32m----> 1\u001b[0m res \u001b[38;5;241m=\u001b[39m \u001b[43mq\u001b[49m\u001b[38;5;241;43m.\u001b[39;49m\u001b[43msend\u001b[49m\u001b[43m(\u001b[49m\u001b[38;5;28;43mcompile\u001b[39;49m\u001b[38;5;241;43m=\u001b[39;49m\u001b[38;5;28;43;01mFalse\u001b[39;49;00m\u001b[43m)\u001b[49m\n\u001b[0;32m      2\u001b[0m res\u001b[38;5;241m.\u001b[39mplot_amplitudes()\n",
      "File \u001b[1;32mD:\\ProgramData\\Anaconda3\\envs\\qutip_env\\lib\\site-packages\\quafu-0.1.1-py3.8.egg\\quafu\\quantum_circuit.py:405\u001b[0m, in \u001b[0;36mQuantumCircuit.send\u001b[1;34m(self, compile)\u001b[0m\n\u001b[0;32m    402\u001b[0m data \u001b[38;5;241m=\u001b[39m data\u001b[38;5;241m.\u001b[39mreplace(\u001b[38;5;124m\"\u001b[39m\u001b[38;5;124m%\u001b[39m\u001b[38;5;124m27\u001b[39m\u001b[38;5;124m\"\u001b[39m, \u001b[38;5;124m\"\u001b[39m\u001b[38;5;124m'\u001b[39m\u001b[38;5;124m\"\u001b[39m)\n\u001b[0;32m    403\u001b[0m res \u001b[38;5;241m=\u001b[39m requests\u001b[38;5;241m.\u001b[39mpost(url, headers\u001b[38;5;241m=\u001b[39mheaders, data\u001b[38;5;241m=\u001b[39mdata)\n\u001b[1;32m--> 405\u001b[0m \u001b[38;5;28;01mif\u001b[39;00m \u001b[43mres\u001b[49m\u001b[38;5;241;43m.\u001b[39;49m\u001b[43mjson\u001b[49m\u001b[43m(\u001b[49m\u001b[43m)\u001b[49m[\u001b[38;5;124m\"\u001b[39m\u001b[38;5;124mstat\u001b[39m\u001b[38;5;124m\"\u001b[39m] \u001b[38;5;241m==\u001b[39m \u001b[38;5;241m5002\u001b[39m:\n\u001b[0;32m    406\u001b[0m     \u001b[38;5;28;01mtry\u001b[39;00m:\n\u001b[0;32m    407\u001b[0m         \u001b[38;5;28;01mraise\u001b[39;00m \u001b[38;5;167;01mRuntimeError\u001b[39;00m(\u001b[38;5;124m\"\u001b[39m\u001b[38;5;124mExcessive computation scale.\u001b[39m\u001b[38;5;124m\"\u001b[39m)\n",
      "File \u001b[1;32mD:\\ProgramData\\Anaconda3\\envs\\qutip_env\\lib\\site-packages\\requests\\models.py:975\u001b[0m, in \u001b[0;36mResponse.json\u001b[1;34m(self, **kwargs)\u001b[0m\n\u001b[0;32m    971\u001b[0m     \u001b[38;5;28;01mreturn\u001b[39;00m complexjson\u001b[38;5;241m.\u001b[39mloads(\u001b[38;5;28mself\u001b[39m\u001b[38;5;241m.\u001b[39mtext, \u001b[38;5;241m*\u001b[39m\u001b[38;5;241m*\u001b[39mkwargs)\n\u001b[0;32m    972\u001b[0m \u001b[38;5;28;01mexcept\u001b[39;00m JSONDecodeError \u001b[38;5;28;01mas\u001b[39;00m e:\n\u001b[0;32m    973\u001b[0m     \u001b[38;5;66;03m# Catch JSON-related errors and raise as requests.JSONDecodeError\u001b[39;00m\n\u001b[0;32m    974\u001b[0m     \u001b[38;5;66;03m# This aliases json.JSONDecodeError and simplejson.JSONDecodeError\u001b[39;00m\n\u001b[1;32m--> 975\u001b[0m     \u001b[38;5;28;01mraise\u001b[39;00m RequestsJSONDecodeError(e\u001b[38;5;241m.\u001b[39mmsg, e\u001b[38;5;241m.\u001b[39mdoc, e\u001b[38;5;241m.\u001b[39mpos)\n",
      "\u001b[1;31mJSONDecodeError\u001b[0m: Expecting value: line 1 column 1 (char 0)"
     ]
    }
   ],
   "source": [
    "res = q.send(compile=False)\n",
    "res.plot_amplitudes()"
   ]
  },
  {
   "cell_type": "markdown",
   "id": "c720bf29",
   "metadata": {},
   "source": [
    "### GHZ测试"
   ]
  },
  {
   "cell_type": "code",
   "execution_count": 4,
   "id": "06ab24af",
   "metadata": {},
   "outputs": [],
   "source": [
    "q = QuantumCircuit(18)\n",
    "q.set_backend(\"ScQ-P20\")"
   ]
  },
  {
   "cell_type": "code",
   "execution_count": 7,
   "id": "af8da554",
   "metadata": {},
   "outputs": [
    {
     "name": "stdout",
     "output_type": "stream",
     "text": [
      "H_qubit is q12\n",
      "parallel GHZ4 circuit(start: q10) is generated\n"
     ]
    }
   ],
   "source": [
    "q = ghz_task_generate(q, 4, 'q10', 'p', 1000)"
   ]
  },
  {
   "cell_type": "code",
   "execution_count": 8,
   "id": "8a3ba7bc",
   "metadata": {},
   "outputs": [
    {
     "name": "stdout",
     "output_type": "stream",
     "text": [
      "q[7]  ----------+-- M->c[0]\n",
      "                |  \n",
      "q[8]  -----+----*-- M->c[1]\n",
      "           |       \n",
      "q[9]  -H---*----*-- M->c[2]\n",
      "                |  \n",
      "q[10] ----------+-- M->c[3]\n"
     ]
    }
   ],
   "source": [
    "q.draw_circuit()"
   ]
  },
  {
   "cell_type": "code",
   "execution_count": 13,
   "id": "4960941e",
   "metadata": {},
   "outputs": [
    {
     "data": {
      "image/png": "[encoded data removed]",
      "text/plain": [
       "<Figure size 432x288 with 1 Axes>"
      ]
     },
     "metadata": {
      "needs_background": "light"
     },
     "output_type": "display_data"
    }
   ],
   "source": [
    "res = q.send(compile=False)\n",
    "res.plot_amplitudes()"
   ]
  },
  {
   "cell_type": "code",
   "execution_count": 6,
   "id": "e3bc3088",
   "metadata": {},
   "outputs": [],
   "source": [
    "def ghz_task_generate(Qcir, ghz_num=10, qubit_start=0, cir_type='serial', shots=None):\n",
    "    '''\n",
    "    Generate ghz task in Qcir(type: quafu.quantum_circuit, necessary)\n",
    "    qubit_start: number/name of the start qubit, like 'q3' or 0\n",
    "    cir_type: 's'(or 'serial') or 'p'(or 'parallel'), support in upper alphabet\n",
    "    '''\n",
    "    \n",
    "    backend = Qcir.backend\n",
    "    backend_qnum = int(backend[backend.index('P') + 1:])\n",
    "    backend_qnum = backend_qnum - 2 if backend_qnum == 20 else backend_qnum\n",
    "    \n",
    "    if shots is None:\n",
    "        shots = 2 ** ghz_num * 10\n",
    "    \n",
    "    if type(qubit_start) is str:\n",
    "        qubit_start = eval('qubits'+str(backend_qnum)).index(qubit_start)\n",
    "    \n",
    "    if qubit_start + ghz_num > backend_qnum:\n",
    "        print('Error: out of '+ Qcir.backend + 'range')\n",
    "        return\n",
    "    \n",
    "    cir_type = cir_type.lower()\n",
    "    \n",
    "    if cir_type in ['serial', 's']:\n",
    "        cir_type = 'serial'\n",
    "        H_qubit = qubit_start\n",
    "        Qcir.h(H_qubit)\n",
    "        for cnot_cq in range(H_qubit, H_qubit + ghz_num - 1):\n",
    "            Qcir.cnot(cnot_cq, cnot_cq + 1)\n",
    "    \n",
    "    elif cir_type in ['parallel', 'p']:\n",
    "        cir_type = 'parallel'\n",
    "        H_qubit = qubit_start + (ghz_num + 1)//2\n",
    "        print('H_qubit is {}'.format(eval('qubits'+str(backend_qnum))[H_qubit]))\n",
    "        Qcir.h(H_qubit)\n",
    "        # upper CZ gates\n",
    "        cnot_cq = H_qubit\n",
    "        while cnot_cq > qubit_start:\n",
    "            Qcir.cnot(cnot_cq, cnot_cq - 1)\n",
    "            cnot_cq = cnot_cq - 1\n",
    "        # lower CZ gates\n",
    "        cnot_cq = H_qubit\n",
    "        while cnot_cq < qubit_start + ghz_num - 1:\n",
    "            Qcir.cnot(cnot_cq, cnot_cq + 1)\n",
    "            cnot_cq = cnot_cq + 1\n",
    "    \n",
    "    else:\n",
    "        print('Error: your circuit type'+ cir_type + 'mistakes')\n",
    "    \n",
    "    measures = list(range(qubit_start, qubit_start + ghz_num))\n",
    "    Qcir.measure(measures, shots=shots)\n",
    "    \n",
    "    print('{} GHZ{} circuit(start: {}) is generated'.format(cir_type, ghz_num, eval('qubits'+str(backend_qnum))[qubit_start]))\n",
    "    return Qcir"
   ]
  },
  {
   "cell_type": "markdown",
   "id": "18c11c3e",
   "metadata": {},
   "source": [
    "### 其他"
   ]
  },
  {
   "cell_type": "code",
   "execution_count": null,
   "id": "4d4a4587",
   "metadata": {},
   "outputs": [],
   "source": [
    "q.gates"
   ]
  },
  {
   "cell_type": "code",
   "execution_count": null,
   "id": "a330859a",
   "metadata": {},
   "outputs": [],
   "source": [
    "print(q.to_openqasm())"
   ]
  }
 ],
 "metadata": {
  "kernelspec": {
   "display_name": "Python 3 (ipykernel)",
   "language": "python",
   "name": "python3"
  },
  "language_info": {
   "codemirror_mode": {
    "name": "ipython",
    "version": 3
   },
   "file_extension": ".py",
   "mimetype": "text/x-python",
   "name": "python",
   "nbconvert_exporter": "python",
   "pygments_lexer": "ipython3",
   "version": "3.8.12"
  }
 },
 "nbformat": 4,
 "nbformat_minor": 5
}
